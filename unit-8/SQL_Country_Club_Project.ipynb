{
 "cells": [
  {
   "cell_type": "markdown",
   "id": "185a4285",
   "metadata": {},
   "source": [
    "**Import pacakages**"
   ]
  },
  {
   "cell_type": "code",
   "execution_count": 1,
   "id": "1bff572e",
   "metadata": {},
   "outputs": [],
   "source": [
    "from sqlalchemy import create_engine\n",
    "import pandas as pd"
   ]
  },
  {
   "cell_type": "markdown",
   "id": "2bb5a4a8",
   "metadata": {},
   "source": [
    "**Q1**: Some of the facilities charge a fee to members, but some do not.\n",
    "Write a SQL query to produce a list of the names of the facilities that do. "
   ]
  },
  {
   "cell_type": "code",
   "execution_count": 2,
   "id": "18a61367",
   "metadata": {},
   "outputs": [
    {
     "name": "stdout",
     "output_type": "stream",
     "text": [
      "             name\n",
      "0  Tennis Court 1\n",
      "1  Tennis Court 2\n",
      "2  Massage Room 1\n",
      "3  Massage Room 2\n",
      "4    Squash Court\n"
     ]
    }
   ],
   "source": [
    "engine = create_engine('sqlite:///sqlite_db_pythonsqlite.db')\n",
    "df = pd.read_sql_query('''SELECT name \n",
    "                          FROM Facilities \n",
    "                          WHERE membercost !=0''', engine)\n",
    "print(df)\n"
   ]
  },
  {
   "cell_type": "markdown",
   "id": "81ccd429",
   "metadata": {},
   "source": [
    "**Q2**: How many facilities do not charge a fee to members?\n"
   ]
  },
  {
   "cell_type": "code",
   "execution_count": 3,
   "id": "07ae30c7",
   "metadata": {},
   "outputs": [
    {
     "name": "stdout",
     "output_type": "stream",
     "text": [
      "   count\n",
      "0      4\n"
     ]
    }
   ],
   "source": [
    "engine = create_engine('sqlite:///sqlite_db_pythonsqlite.db')\n",
    "df = pd.read_sql_query('''SELECT COUNT(*) as count \n",
    "                          FROM Facilities \n",
    "                          WHERE membercost ==0''', engine)\n",
    "print(df)\n"
   ]
  },
  {
   "cell_type": "markdown",
   "id": "3fac2f0c",
   "metadata": {},
   "source": [
    "**Q3**: Write an SQL query to show a list of facilities that charge a fee to members, where the fee is less than 20% of the facility's monthly maintenance cost. Return the facid, facility name, member cost, and monthly maintenance of the facilities in question."
   ]
  },
  {
   "cell_type": "code",
   "execution_count": 4,
   "id": "7c7ec2c0",
   "metadata": {},
   "outputs": [
    {
     "name": "stdout",
     "output_type": "stream",
     "text": [
      "   facid            name  membercost  monthlymaintenance\n",
      "0      0  Tennis Court 1         5.0                 200\n",
      "1      1  Tennis Court 2         5.0                 200\n",
      "2      4  Massage Room 1         9.9                3000\n",
      "3      5  Massage Room 2         9.9                3000\n",
      "4      6    Squash Court         3.5                  80\n"
     ]
    }
   ],
   "source": [
    "df = pd.read_sql_query('''SELECT facid, name, membercost, monthlymaintenance \n",
    "                          FROM Facilities \n",
    "                          WHERE membercost > 0 AND membercost < 0.2 * (monthlymaintenance)''', engine)\n",
    "print(df)"
   ]
  },
  {
   "cell_type": "markdown",
   "id": "e172bd0c",
   "metadata": {},
   "source": [
    "**Q4**: Write an SQL query to retrieve the details of facilities with ID 1 and 5.\n",
    "Try writing the query without using the OR operator."
   ]
  },
  {
   "cell_type": "code",
   "execution_count": 5,
   "id": "ca8ba0de",
   "metadata": {},
   "outputs": [
    {
     "name": "stdout",
     "output_type": "stream",
     "text": [
      "   facid            name  membercost  guestcost  initialoutlay  \\\n",
      "0      1  Tennis Court 2         5.0         25           8000   \n",
      "1      5  Massage Room 2         9.9         80           4000   \n",
      "\n",
      "   monthlymaintenance  \n",
      "0                 200  \n",
      "1                3000  \n"
     ]
    }
   ],
   "source": [
    "df = pd.read_sql_query('''SELECT * \n",
    "                          FROM Facilities\n",
    "                          WHERE facid IN (1, 5) ''', engine)\n",
    "print(df)"
   ]
  },
  {
   "cell_type": "markdown",
   "id": "f0b60f92",
   "metadata": {},
   "source": [
    "**Q5**: Produce a list of facilities, with each labelled as\n",
    "'cheap' or 'expensive', depending on if their monthly maintenance cost is\n",
    "more than $100. Return the name and monthly maintenance of the facilities\n",
    "in question. "
   ]
  },
  {
   "cell_type": "code",
   "execution_count": 6,
   "id": "4a000269",
   "metadata": {},
   "outputs": [
    {
     "name": "stdout",
     "output_type": "stream",
     "text": [
      "              name  monthlymaintenance       TYPE\n",
      "0   Tennis Court 1                 200  expensive\n",
      "1   Tennis Court 2                 200  expensive\n",
      "2  Badminton Court                  50      cheap\n",
      "3     Table Tennis                  10      cheap\n",
      "4   Massage Room 1                3000  expensive\n",
      "5   Massage Room 2                3000  expensive\n",
      "6     Squash Court                  80      cheap\n",
      "7    Snooker Table                  15      cheap\n",
      "8       Pool Table                  15      cheap\n"
     ]
    }
   ],
   "source": [
    "df = pd.read_sql_query('''SELECT name, monthlymaintenance,\n",
    "                            CASE WHEN monthlymaintenance <100 THEN 'cheap'\n",
    "                            ELSE 'expensive'\n",
    "                            END AS TYPE\n",
    "                          FROM Facilities''', engine)\n",
    "print(df)"
   ]
  },
  {
   "cell_type": "markdown",
   "id": "266fdc95",
   "metadata": {},
   "source": [
    "**Q6**: You'd like to get the first and last name of the last member(s)\n",
    "who signed up. Try not to use the LIMIT clause for your solution. "
   ]
  },
  {
   "cell_type": "code",
   "execution_count": 7,
   "id": "7172334e",
   "metadata": {},
   "outputs": [
    {
     "name": "stdout",
     "output_type": "stream",
     "text": [
      "  firstname surname             joindate\n",
      "0    Darren   Smith  2012-09-26 18:08:45\n"
     ]
    }
   ],
   "source": [
    "df = pd.read_sql_query('''SELECT firstname, surname, joindate\n",
    "                          FROM Members\n",
    "                          WHERE joindate = (\n",
    "                          SELECT MAX(joindate)\n",
    "                          FROM Members)''', engine)\n",
    "print(df)"
   ]
  },
  {
   "cell_type": "markdown",
   "id": "a3f43495",
   "metadata": {},
   "source": [
    "**Q7**: Produce a list of all members who have used a tennis court.\n",
    "Include in your output the name of the court, and the name of the member\n",
    "formatted as a single column. Ensure no duplicate data, and order by\n",
    "the member name."
   ]
  },
  {
   "cell_type": "code",
   "execution_count": 8,
   "id": "11b770af",
   "metadata": {},
   "outputs": [
    {
     "name": "stdout",
     "output_type": "stream",
     "text": [
      "               member      court_name\n",
      "0         Tracy Smith  Tennis Court 1\n",
      "1          Tim Rownam  Tennis Court 1\n",
      "2     Janice Joplette  Tennis Court 1\n",
      "3      Gerald Butters  Tennis Court 1\n",
      "4        Burton Tracy  Tennis Court 1\n",
      "5          Nancy Dare  Tennis Court 1\n",
      "6          Tim Boothe  Tennis Court 1\n",
      "7        Charles Owen  Tennis Court 1\n",
      "8          Anne Baker  Tennis Court 1\n",
      "9          Jack Smith  Tennis Court 1\n",
      "10        David Jones  Tennis Court 1\n",
      "11      Timothy Baker  Tennis Court 1\n",
      "12       David Pinker  Tennis Court 1\n",
      "13    Ponder Stibbons  Tennis Court 1\n",
      "14        Joan Coplin  Tennis Court 1\n",
      "15      Douglas Jones  Tennis Court 1\n",
      "16   Ramnaresh Sarwin  Tennis Court 1\n",
      "17     Jemima Farrell  Tennis Court 1\n",
      "18      David Farrell  Tennis Court 1\n",
      "19     Florence Bader  Tennis Court 1\n",
      "20          John Hunt  Tennis Court 1\n",
      "21    Matthew Genting  Tennis Court 1\n",
      "22      Erica Crumpet  Tennis Court 1\n",
      "23         Tim Rownam  Tennis Court 2\n",
      "24       Darren Smith  Tennis Court 2\n",
      "25    Janice Joplette  Tennis Court 2\n",
      "26        Tracy Smith  Tennis Court 2\n",
      "27     Gerald Butters  Tennis Court 2\n",
      "28         Tim Boothe  Tennis Court 2\n",
      "29       Burton Tracy  Tennis Court 2\n",
      "30         Nancy Dare  Tennis Court 2\n",
      "31    Ponder Stibbons  Tennis Court 2\n",
      "32       Charles Owen  Tennis Court 2\n",
      "33        David Jones  Tennis Court 2\n",
      "34         Anne Baker  Tennis Court 2\n",
      "35      Timothy Baker  Tennis Court 2\n",
      "36     Florence Bader  Tennis Court 2\n",
      "37     Jemima Farrell  Tennis Court 2\n",
      "38   Ramnaresh Sarwin  Tennis Court 2\n",
      "39         Jack Smith  Tennis Court 2\n",
      "40  Millicent Purview  Tennis Court 2\n",
      "41   Henrietta Rumney  Tennis Court 2\n",
      "42          John Hunt  Tennis Court 2\n",
      "43      David Farrell  Tennis Court 2\n"
     ]
    }
   ],
   "source": [
    "df = pd.read_sql_query('''SELECT DISTINCT m.firstname || \" \" || m.surname AS member, f.name AS court_name\n",
    "                          FROM Bookings AS b\n",
    "                          LEFT JOIN Members AS m ON m.memid = b.memid\n",
    "                          LEFT JOIN Facilities AS f ON b.facid = f.facid\n",
    "                          WHERE b.facid IN (0, 1) AND m.surname != 'GUEST'\n",
    "                          ORDER BY court_name''', engine)\n",
    "print(df)"
   ]
  },
  {
   "cell_type": "markdown",
   "id": "51c86ec9",
   "metadata": {},
   "source": [
    "**Q8**: Produce a list of bookings on the day of 2012-09-14 which\n",
    "will cost the member (or guest) more than $30. Remember that guests have\n",
    "different costs to members (the listed costs are per half-hour 'slot'), and\n",
    "the guest user's ID is always 0. Include in your output the name of the\n",
    "facility, the name of the member formatted as a single column, and the cost.\n",
    "Order by descending cost, and do not use any subqueries."
   ]
  },
  {
   "cell_type": "code",
   "execution_count": 9,
   "id": "1903c34f",
   "metadata": {},
   "outputs": [
    {
     "name": "stdout",
     "output_type": "stream",
     "text": [
      "          facility            name   cost\n",
      "0   Massage Room 2     GUEST GUEST  320.0\n",
      "1   Massage Room 1     GUEST GUEST  160.0\n",
      "2   Massage Room 1     GUEST GUEST  160.0\n",
      "3   Massage Room 1     GUEST GUEST  160.0\n",
      "4   Tennis Court 2     GUEST GUEST  150.0\n",
      "5   Tennis Court 1     GUEST GUEST   75.0\n",
      "6   Tennis Court 1     GUEST GUEST   75.0\n",
      "7   Tennis Court 2     GUEST GUEST   75.0\n",
      "8     Squash Court     GUEST GUEST   70.0\n",
      "9   Massage Room 1  Jemima Farrell   39.6\n",
      "10    Squash Court     GUEST GUEST   35.0\n",
      "11    Squash Court     GUEST GUEST   35.0\n"
     ]
    }
   ],
   "source": [
    "df = pd.read_sql_query('''SELECT f.name AS facility, m.firstname || \" \" || m.surname AS name,\n",
    "                             CASE WHEN b.memid !=0 THEN b.slots*(f.membercost)\n",
    "                             ELSE b.slots*(f.guestcost)\n",
    "                             END AS cost\n",
    "                          FROM Members AS m\n",
    "                          LEFT JOIN Bookings AS b ON m.memid = b.memid\n",
    "                          LEFT JOIN Facilities AS f ON f.facid = b.facid\n",
    "                          WHERE b.starttime LIKE '2012-09-14 %'\n",
    "                                AND CASE WHEN b.memid !=0 THEN b.slots *(f.membercost)\n",
    "                                ELSE b.slots *(f.guestcost)\n",
    "                                END >30\n",
    "                          ORDER BY cost DESC''', engine)\n",
    "print(df)"
   ]
  },
  {
   "cell_type": "markdown",
   "id": "997aed55",
   "metadata": {},
   "source": [
    "**Q9**: This time, produce the same result as in Q8, but using a subquery."
   ]
  },
  {
   "cell_type": "code",
   "execution_count": 10,
   "id": "8f1e2dc1",
   "metadata": {},
   "outputs": [
    {
     "name": "stdout",
     "output_type": "stream",
     "text": [
      "          facility            name   cost\n",
      "0   Massage Room 2     GUEST GUEST  320.0\n",
      "1   Massage Room 1     GUEST GUEST  160.0\n",
      "2   Massage Room 1     GUEST GUEST  160.0\n",
      "3   Massage Room 1     GUEST GUEST  160.0\n",
      "4   Tennis Court 2     GUEST GUEST  150.0\n",
      "5   Tennis Court 1     GUEST GUEST   75.0\n",
      "6   Tennis Court 1     GUEST GUEST   75.0\n",
      "7   Tennis Court 2     GUEST GUEST   75.0\n",
      "8     Squash Court     GUEST GUEST   70.0\n",
      "9   Massage Room 1  Jemima Farrell   39.6\n",
      "10    Squash Court     GUEST GUEST   35.0\n",
      "11    Squash Court     GUEST GUEST   35.0\n"
     ]
    }
   ],
   "source": [
    "df = pd.read_sql_query('''SELECT *\n",
    "                          FROM (\n",
    "                              SELECT f.name AS facility, m.firstname || \" \" || m.surname AS name,\n",
    "                                 CASE WHEN b.memid !=0 THEN b.slots*(f.membercost)\n",
    "                                  ELSE b.slots*(f.guestcost)\n",
    "                                  END AS cost\n",
    "                              FROM Members AS m\n",
    "                              LEFT JOIN Bookings AS b ON m.memid = b.memid\n",
    "                              LEFT JOIN Facilities AS f ON f.facid = b.facid\n",
    "                              WHERE b.starttime LIKE '2012-09-14 %'\n",
    "                              ) AS cost\n",
    "                         WHERE cost >30\n",
    "                         ORDER BY cost DESC''', engine)\n",
    "print(df)"
   ]
  },
  {
   "cell_type": "markdown",
   "id": "bafc549b",
   "metadata": {},
   "source": [
    "**Q10**: Produce a list of facilities with a total revenue less than 1000.\n",
    "The output of facility name and total revenue, sorted by revenue. Remember\n",
    "that there's a different cost for guests and members!"
   ]
  },
  {
   "cell_type": "code",
   "execution_count": 11,
   "id": "2f20e58c",
   "metadata": {},
   "outputs": [
    {
     "name": "stdout",
     "output_type": "stream",
     "text": [
      "        facility  revenue\n",
      "0     Pool Table      270\n",
      "1  Snooker Table      240\n",
      "2   Table Tennis      180\n"
     ]
    }
   ],
   "source": [
    "df = pd.read_sql_query('''SELECT *\n",
    "                          FROM\n",
    "                            (SELECT f.name AS facility, SUM(CASE WHEN m.firstname = \"GUEST\" THEN slots*f.guestcost\n",
    "                                                            ELSE slots*f.membercost\n",
    "                                                            END) AS revenue\n",
    "                            FROM Members AS m\n",
    "                            INNER JOIN Bookings AS b\n",
    "                            ON m.memid = b.memid\n",
    "                            INNER JOIN Facilities AS f\n",
    "                            ON b.facid = f.facid\n",
    "                            GROUP BY f.name)\n",
    "                        WHERE revenue < 1000\n",
    "                        ORDER BY revenue DESC''', engine)\n",
    "print(df)"
   ]
  },
  {
   "cell_type": "markdown",
   "id": "2cd5157e",
   "metadata": {},
   "source": [
    "**Q11**: Produce a report of members and who recommended them in alphabetic surname,firstname order"
   ]
  },
  {
   "cell_type": "code",
   "execution_count": 67,
   "id": "8d83014d",
   "metadata": {},
   "outputs": [
    {
     "name": "stdout",
     "output_type": "stream",
     "text": [
      "                 member_name    recommender_name\n",
      "0            Bader, Florence    Stibbons, Ponder\n",
      "1                Baker, Anne    Stibbons, Ponder\n",
      "2             Baker, Timothy     Farrell, Jemima\n",
      "3                Boothe, Tim         Rownam, Tim\n",
      "4            Butters, Gerald       Smith, Darren\n",
      "5               Coplin, Joan      Baker, Timothy\n",
      "6             Crumpet, Erica        Smith, Tracy\n",
      "7                Dare, Nancy    Joplette, Janice\n",
      "8           Genting, Matthew     Butters, Gerald\n",
      "9                 Hunt, John  Purview, Millicent\n",
      "10              Jones, David    Joplette, Janice\n",
      "11            Jones, Douglas        Jones, David\n",
      "12          Joplette, Janice       Smith, Darren\n",
      "13           Mackenzie, Anna       Smith, Darren\n",
      "14             Owen, Charles       Smith, Darren\n",
      "15             Pinker, David     Farrell, Jemima\n",
      "16        Purview, Millicent        Smith, Tracy\n",
      "17         Rumney, Henrietta    Genting, Matthew\n",
      "18         Sarwin, Ramnaresh     Bader, Florence\n",
      "19               Smith, Jack       Smith, Darren\n",
      "20          Stibbons, Ponder       Tracy, Burton\n",
      "21  Worthington-Smyth, Henry        Smith, Tracy\n"
     ]
    }
   ],
   "source": [
    "df = pd.read_sql_query('''\n",
    "                        SELECT r.surname || ', ' || r.firstname as member_name, m.surname || ', ' || m.firstname as recommender_name\n",
    "                        FROM Members AS m\n",
    "                        JOIN Members AS r ON m.memid==r.recommendedby\n",
    "                        ORDER BY member_name\n",
    "                       ''', engine)\n",
    "print(df)"
   ]
  },
  {
   "cell_type": "markdown",
   "id": "60ff5760",
   "metadata": {},
   "source": [
    "**Q12**: Find the facilities with their usage by member, but not guests "
   ]
  },
  {
   "cell_type": "code",
   "execution_count": 72,
   "id": "96ac7b1b",
   "metadata": {},
   "outputs": [
    {
     "name": "stdout",
     "output_type": "stream",
     "text": [
      "              name  member_count\n",
      "0       Pool Table           783\n",
      "1   Massage Room 1           421\n",
      "2    Snooker Table           421\n",
      "3     Table Tennis           385\n",
      "4  Badminton Court           344\n",
      "5   Tennis Court 1           308\n",
      "6   Tennis Court 2           276\n",
      "7     Squash Court           195\n",
      "8   Massage Room 2            27\n"
     ]
    }
   ],
   "source": [
    "# usage = number of members who used \n",
    "df = pd.read_sql_query('''SELECT f.name, b.member_count\n",
    "                          FROM\n",
    "                              (SELECT facid, COUNT(*) as member_count\n",
    "                              FROM Bookings\n",
    "                              WHERE memid != 0\n",
    "                              GROUP BY facid) AS b\n",
    "                          JOIN Facilities AS f on f.facid == b.facid\n",
    "                          ORDER BY member_count DESC\n",
    "                          ''', engine)\n",
    "print(df)"
   ]
  },
  {
   "cell_type": "markdown",
   "id": "5d2ecd6b",
   "metadata": {},
   "source": [
    "**Q13**: Find the facilities usage by month, but not guests"
   ]
  },
  {
   "cell_type": "code",
   "execution_count": 96,
   "id": "e9fd8920",
   "metadata": {},
   "outputs": [
    {
     "name": "stdout",
     "output_type": "stream",
     "text": [
      "               name  member_count Month\n",
      "0        Pool Table           408    09\n",
      "1        Pool Table           272    08\n",
      "2     Snooker Table           199    09\n",
      "3      Table Tennis           194    09\n",
      "4    Massage Room 1           191    09\n",
      "5   Badminton Court           161    09\n",
      "6     Snooker Table           154    08\n",
      "7    Massage Room 1           153    08\n",
      "8      Table Tennis           143    08\n",
      "9    Tennis Court 1           132    09\n",
      "10  Badminton Court           132    08\n",
      "11   Tennis Court 2           126    09\n",
      "12   Tennis Court 1           111    08\n",
      "13   Tennis Court 2           109    08\n",
      "14       Pool Table           103    07\n",
      "15     Squash Court            87    09\n",
      "16     Squash Court            85    08\n",
      "17   Massage Room 1            77    07\n",
      "18    Snooker Table            68    07\n",
      "19   Tennis Court 1            65    07\n",
      "20  Badminton Court            51    07\n",
      "21     Table Tennis            48    07\n",
      "22   Tennis Court 2            41    07\n",
      "23     Squash Court            23    07\n",
      "24   Massage Room 2            14    09\n",
      "25   Massage Room 2             9    08\n",
      "26   Massage Room 2             4    07\n"
     ]
    }
   ],
   "source": [
    "df = pd.read_sql_query('''SELECT f.name, b.member_count, b.Month\n",
    "                          FROM\n",
    "                              (SELECT facid, COUNT(*) as member_count, strftime('%m', starttime) AS Month\n",
    "                              FROM Bookings\n",
    "                              WHERE memid != 0\n",
    "                              GROUP BY facid, Month) AS b\n",
    "                          JOIN Facilities AS f on f.facid == b.facid\n",
    "                          ORDER BY member_count DESC\n",
    "                          ''', engine)\n",
    "print(df)"
   ]
  },
  {
   "cell_type": "code",
   "execution_count": 95,
   "id": "0ebe7975",
   "metadata": {},
   "outputs": [
    {
     "ename": "OperationalError",
     "evalue": "(sqlite3.OperationalError) no such function: MONTH\n[SQL: SELECT facid, COUNT(*) as member_count, MONTH(starttime) AS Month\n                              FROM Bookings\n                          ]\n(Background on this error at: https://sqlalche.me/e/14/e3q8)",
     "output_type": "error",
     "traceback": [
      "\u001b[0;31m---------------------------------------------------------------------------\u001b[0m",
      "\u001b[0;31mOperationalError\u001b[0m                          Traceback (most recent call last)",
      "\u001b[0;32m~/opt/anaconda3/lib/python3.9/site-packages/sqlalchemy/engine/base.py\u001b[0m in \u001b[0;36m_execute_context\u001b[0;34m(self, dialect, constructor, statement, parameters, execution_options, *args, **kw)\u001b[0m\n\u001b[1;32m   1770\u001b[0m                 \u001b[0;32mif\u001b[0m \u001b[0;32mnot\u001b[0m \u001b[0mevt_handled\u001b[0m\u001b[0;34m:\u001b[0m\u001b[0;34m\u001b[0m\u001b[0;34m\u001b[0m\u001b[0m\n\u001b[0;32m-> 1771\u001b[0;31m                     self.dialect.do_execute(\n\u001b[0m\u001b[1;32m   1772\u001b[0m                         \u001b[0mcursor\u001b[0m\u001b[0;34m,\u001b[0m \u001b[0mstatement\u001b[0m\u001b[0;34m,\u001b[0m \u001b[0mparameters\u001b[0m\u001b[0;34m,\u001b[0m \u001b[0mcontext\u001b[0m\u001b[0;34m\u001b[0m\u001b[0;34m\u001b[0m\u001b[0m\n",
      "\u001b[0;32m~/opt/anaconda3/lib/python3.9/site-packages/sqlalchemy/engine/default.py\u001b[0m in \u001b[0;36mdo_execute\u001b[0;34m(self, cursor, statement, parameters, context)\u001b[0m\n\u001b[1;32m    716\u001b[0m     \u001b[0;32mdef\u001b[0m \u001b[0mdo_execute\u001b[0m\u001b[0;34m(\u001b[0m\u001b[0mself\u001b[0m\u001b[0;34m,\u001b[0m \u001b[0mcursor\u001b[0m\u001b[0;34m,\u001b[0m \u001b[0mstatement\u001b[0m\u001b[0;34m,\u001b[0m \u001b[0mparameters\u001b[0m\u001b[0;34m,\u001b[0m \u001b[0mcontext\u001b[0m\u001b[0;34m=\u001b[0m\u001b[0;32mNone\u001b[0m\u001b[0;34m)\u001b[0m\u001b[0;34m:\u001b[0m\u001b[0;34m\u001b[0m\u001b[0;34m\u001b[0m\u001b[0m\n\u001b[0;32m--> 717\u001b[0;31m         \u001b[0mcursor\u001b[0m\u001b[0;34m.\u001b[0m\u001b[0mexecute\u001b[0m\u001b[0;34m(\u001b[0m\u001b[0mstatement\u001b[0m\u001b[0;34m,\u001b[0m \u001b[0mparameters\u001b[0m\u001b[0;34m)\u001b[0m\u001b[0;34m\u001b[0m\u001b[0;34m\u001b[0m\u001b[0m\n\u001b[0m\u001b[1;32m    718\u001b[0m \u001b[0;34m\u001b[0m\u001b[0m\n",
      "\u001b[0;31mOperationalError\u001b[0m: no such function: MONTH",
      "\nThe above exception was the direct cause of the following exception:\n",
      "\u001b[0;31mOperationalError\u001b[0m                          Traceback (most recent call last)",
      "\u001b[0;32m/var/folders/1j/pnfx557j23s9fkcsym_1gbyw0000gn/T/ipykernel_81031/318376236.py\u001b[0m in \u001b[0;36m<module>\u001b[0;34m\u001b[0m\n\u001b[0;32m----> 1\u001b[0;31m df = pd.read_sql_query('''SELECT facid, COUNT(*) as member_count, MONTH(starttime) AS Month\n\u001b[0m\u001b[1;32m      2\u001b[0m                               \u001b[0mFROM\u001b[0m \u001b[0mBookings\u001b[0m\u001b[0;34m\u001b[0m\u001b[0;34m\u001b[0m\u001b[0m\n\u001b[1;32m      3\u001b[0m                           ''', engine)\n\u001b[1;32m      4\u001b[0m \u001b[0mprint\u001b[0m\u001b[0;34m(\u001b[0m\u001b[0mdf\u001b[0m\u001b[0;34m)\u001b[0m\u001b[0;34m\u001b[0m\u001b[0;34m\u001b[0m\u001b[0m\n",
      "\u001b[0;32m~/opt/anaconda3/lib/python3.9/site-packages/pandas/io/sql.py\u001b[0m in \u001b[0;36mread_sql_query\u001b[0;34m(sql, con, index_col, coerce_float, params, parse_dates, chunksize, dtype)\u001b[0m\n\u001b[1;32m    434\u001b[0m     \"\"\"\n\u001b[1;32m    435\u001b[0m     \u001b[0mpandas_sql\u001b[0m \u001b[0;34m=\u001b[0m \u001b[0mpandasSQL_builder\u001b[0m\u001b[0;34m(\u001b[0m\u001b[0mcon\u001b[0m\u001b[0;34m)\u001b[0m\u001b[0;34m\u001b[0m\u001b[0;34m\u001b[0m\u001b[0m\n\u001b[0;32m--> 436\u001b[0;31m     return pandas_sql.read_query(\n\u001b[0m\u001b[1;32m    437\u001b[0m         \u001b[0msql\u001b[0m\u001b[0;34m,\u001b[0m\u001b[0;34m\u001b[0m\u001b[0;34m\u001b[0m\u001b[0m\n\u001b[1;32m    438\u001b[0m         \u001b[0mindex_col\u001b[0m\u001b[0;34m=\u001b[0m\u001b[0mindex_col\u001b[0m\u001b[0;34m,\u001b[0m\u001b[0;34m\u001b[0m\u001b[0;34m\u001b[0m\u001b[0m\n",
      "\u001b[0;32m~/opt/anaconda3/lib/python3.9/site-packages/pandas/io/sql.py\u001b[0m in \u001b[0;36mread_query\u001b[0;34m(self, sql, index_col, coerce_float, parse_dates, params, chunksize, dtype)\u001b[0m\n\u001b[1;32m   1577\u001b[0m         \u001b[0margs\u001b[0m \u001b[0;34m=\u001b[0m \u001b[0m_convert_params\u001b[0m\u001b[0;34m(\u001b[0m\u001b[0msql\u001b[0m\u001b[0;34m,\u001b[0m \u001b[0mparams\u001b[0m\u001b[0;34m)\u001b[0m\u001b[0;34m\u001b[0m\u001b[0;34m\u001b[0m\u001b[0m\n\u001b[1;32m   1578\u001b[0m \u001b[0;34m\u001b[0m\u001b[0m\n\u001b[0;32m-> 1579\u001b[0;31m         \u001b[0mresult\u001b[0m \u001b[0;34m=\u001b[0m \u001b[0mself\u001b[0m\u001b[0;34m.\u001b[0m\u001b[0mexecute\u001b[0m\u001b[0;34m(\u001b[0m\u001b[0;34m*\u001b[0m\u001b[0margs\u001b[0m\u001b[0;34m)\u001b[0m\u001b[0;34m\u001b[0m\u001b[0;34m\u001b[0m\u001b[0m\n\u001b[0m\u001b[1;32m   1580\u001b[0m         \u001b[0mcolumns\u001b[0m \u001b[0;34m=\u001b[0m \u001b[0mresult\u001b[0m\u001b[0;34m.\u001b[0m\u001b[0mkeys\u001b[0m\u001b[0;34m(\u001b[0m\u001b[0;34m)\u001b[0m\u001b[0;34m\u001b[0m\u001b[0;34m\u001b[0m\u001b[0m\n\u001b[1;32m   1581\u001b[0m \u001b[0;34m\u001b[0m\u001b[0m\n",
      "\u001b[0;32m~/opt/anaconda3/lib/python3.9/site-packages/pandas/io/sql.py\u001b[0m in \u001b[0;36mexecute\u001b[0;34m(self, *args, **kwargs)\u001b[0m\n\u001b[1;32m   1422\u001b[0m     \u001b[0;32mdef\u001b[0m \u001b[0mexecute\u001b[0m\u001b[0;34m(\u001b[0m\u001b[0mself\u001b[0m\u001b[0;34m,\u001b[0m \u001b[0;34m*\u001b[0m\u001b[0margs\u001b[0m\u001b[0;34m,\u001b[0m \u001b[0;34m**\u001b[0m\u001b[0mkwargs\u001b[0m\u001b[0;34m)\u001b[0m\u001b[0;34m:\u001b[0m\u001b[0;34m\u001b[0m\u001b[0;34m\u001b[0m\u001b[0m\n\u001b[1;32m   1423\u001b[0m         \u001b[0;34m\"\"\"Simple passthrough to SQLAlchemy connectable\"\"\"\u001b[0m\u001b[0;34m\u001b[0m\u001b[0;34m\u001b[0m\u001b[0m\n\u001b[0;32m-> 1424\u001b[0;31m         \u001b[0;32mreturn\u001b[0m \u001b[0mself\u001b[0m\u001b[0;34m.\u001b[0m\u001b[0mconnectable\u001b[0m\u001b[0;34m.\u001b[0m\u001b[0mexecution_options\u001b[0m\u001b[0;34m(\u001b[0m\u001b[0;34m)\u001b[0m\u001b[0;34m.\u001b[0m\u001b[0mexecute\u001b[0m\u001b[0;34m(\u001b[0m\u001b[0;34m*\u001b[0m\u001b[0margs\u001b[0m\u001b[0;34m,\u001b[0m \u001b[0;34m**\u001b[0m\u001b[0mkwargs\u001b[0m\u001b[0;34m)\u001b[0m\u001b[0;34m\u001b[0m\u001b[0;34m\u001b[0m\u001b[0m\n\u001b[0m\u001b[1;32m   1425\u001b[0m \u001b[0;34m\u001b[0m\u001b[0m\n\u001b[1;32m   1426\u001b[0m     def read_table(\n",
      "\u001b[0;32m<string>\u001b[0m in \u001b[0;36mexecute\u001b[0;34m(self, statement, *multiparams, **params)\u001b[0m\n",
      "\u001b[0;32m~/opt/anaconda3/lib/python3.9/site-packages/sqlalchemy/util/deprecations.py\u001b[0m in \u001b[0;36mwarned\u001b[0;34m(fn, *args, **kwargs)\u001b[0m\n\u001b[1;32m    388\u001b[0m         \u001b[0;32mif\u001b[0m \u001b[0;32mnot\u001b[0m \u001b[0mskip_warning\u001b[0m\u001b[0;34m:\u001b[0m\u001b[0;34m\u001b[0m\u001b[0;34m\u001b[0m\u001b[0m\n\u001b[1;32m    389\u001b[0m             \u001b[0m_warn_with_version\u001b[0m\u001b[0;34m(\u001b[0m\u001b[0mmessage\u001b[0m\u001b[0;34m,\u001b[0m \u001b[0mversion\u001b[0m\u001b[0;34m,\u001b[0m \u001b[0mwtype\u001b[0m\u001b[0;34m,\u001b[0m \u001b[0mstacklevel\u001b[0m\u001b[0;34m=\u001b[0m\u001b[0;36m3\u001b[0m\u001b[0;34m)\u001b[0m\u001b[0;34m\u001b[0m\u001b[0;34m\u001b[0m\u001b[0m\n\u001b[0;32m--> 390\u001b[0;31m         \u001b[0;32mreturn\u001b[0m \u001b[0mfn\u001b[0m\u001b[0;34m(\u001b[0m\u001b[0;34m*\u001b[0m\u001b[0margs\u001b[0m\u001b[0;34m,\u001b[0m \u001b[0;34m**\u001b[0m\u001b[0mkwargs\u001b[0m\u001b[0;34m)\u001b[0m\u001b[0;34m\u001b[0m\u001b[0;34m\u001b[0m\u001b[0m\n\u001b[0m\u001b[1;32m    391\u001b[0m \u001b[0;34m\u001b[0m\u001b[0m\n\u001b[1;32m    392\u001b[0m     \u001b[0mdoc\u001b[0m \u001b[0;34m=\u001b[0m \u001b[0mfunc\u001b[0m\u001b[0;34m.\u001b[0m\u001b[0m__doc__\u001b[0m \u001b[0;32mis\u001b[0m \u001b[0;32mnot\u001b[0m \u001b[0;32mNone\u001b[0m \u001b[0;32mand\u001b[0m \u001b[0mfunc\u001b[0m\u001b[0;34m.\u001b[0m\u001b[0m__doc__\u001b[0m \u001b[0;32mor\u001b[0m \u001b[0;34m\"\"\u001b[0m\u001b[0;34m\u001b[0m\u001b[0;34m\u001b[0m\u001b[0m\n",
      "\u001b[0;32m~/opt/anaconda3/lib/python3.9/site-packages/sqlalchemy/engine/base.py\u001b[0m in \u001b[0;36mexecute\u001b[0;34m(self, statement, *multiparams, **params)\u001b[0m\n\u001b[1;32m   3106\u001b[0m         \"\"\"\n\u001b[1;32m   3107\u001b[0m         \u001b[0mconnection\u001b[0m \u001b[0;34m=\u001b[0m \u001b[0mself\u001b[0m\u001b[0;34m.\u001b[0m\u001b[0mconnect\u001b[0m\u001b[0;34m(\u001b[0m\u001b[0mclose_with_result\u001b[0m\u001b[0;34m=\u001b[0m\u001b[0;32mTrue\u001b[0m\u001b[0;34m)\u001b[0m\u001b[0;34m\u001b[0m\u001b[0;34m\u001b[0m\u001b[0m\n\u001b[0;32m-> 3108\u001b[0;31m         \u001b[0;32mreturn\u001b[0m \u001b[0mconnection\u001b[0m\u001b[0;34m.\u001b[0m\u001b[0mexecute\u001b[0m\u001b[0;34m(\u001b[0m\u001b[0mstatement\u001b[0m\u001b[0;34m,\u001b[0m \u001b[0;34m*\u001b[0m\u001b[0mmultiparams\u001b[0m\u001b[0;34m,\u001b[0m \u001b[0;34m**\u001b[0m\u001b[0mparams\u001b[0m\u001b[0;34m)\u001b[0m\u001b[0;34m\u001b[0m\u001b[0;34m\u001b[0m\u001b[0m\n\u001b[0m\u001b[1;32m   3109\u001b[0m \u001b[0;34m\u001b[0m\u001b[0m\n\u001b[1;32m   3110\u001b[0m     @util.deprecated_20(\n",
      "\u001b[0;32m~/opt/anaconda3/lib/python3.9/site-packages/sqlalchemy/engine/base.py\u001b[0m in \u001b[0;36mexecute\u001b[0;34m(self, statement, *multiparams, **params)\u001b[0m\n\u001b[1;32m   1246\u001b[0m             )\n\u001b[1;32m   1247\u001b[0m \u001b[0;34m\u001b[0m\u001b[0m\n\u001b[0;32m-> 1248\u001b[0;31m             return self._exec_driver_sql(\n\u001b[0m\u001b[1;32m   1249\u001b[0m                 \u001b[0mstatement\u001b[0m\u001b[0;34m,\u001b[0m\u001b[0;34m\u001b[0m\u001b[0;34m\u001b[0m\u001b[0m\n\u001b[1;32m   1250\u001b[0m                 \u001b[0mmultiparams\u001b[0m\u001b[0;34m,\u001b[0m\u001b[0;34m\u001b[0m\u001b[0;34m\u001b[0m\u001b[0m\n",
      "\u001b[0;32m~/opt/anaconda3/lib/python3.9/site-packages/sqlalchemy/engine/base.py\u001b[0m in \u001b[0;36m_exec_driver_sql\u001b[0;34m(self, statement, multiparams, params, execution_options, future)\u001b[0m\n\u001b[1;32m   1545\u001b[0m \u001b[0;34m\u001b[0m\u001b[0m\n\u001b[1;32m   1546\u001b[0m         \u001b[0mdialect\u001b[0m \u001b[0;34m=\u001b[0m \u001b[0mself\u001b[0m\u001b[0;34m.\u001b[0m\u001b[0mdialect\u001b[0m\u001b[0;34m\u001b[0m\u001b[0;34m\u001b[0m\u001b[0m\n\u001b[0;32m-> 1547\u001b[0;31m         ret = self._execute_context(\n\u001b[0m\u001b[1;32m   1548\u001b[0m             \u001b[0mdialect\u001b[0m\u001b[0;34m,\u001b[0m\u001b[0;34m\u001b[0m\u001b[0;34m\u001b[0m\u001b[0m\n\u001b[1;32m   1549\u001b[0m             \u001b[0mdialect\u001b[0m\u001b[0;34m.\u001b[0m\u001b[0mexecution_ctx_cls\u001b[0m\u001b[0;34m.\u001b[0m\u001b[0m_init_statement\u001b[0m\u001b[0;34m,\u001b[0m\u001b[0;34m\u001b[0m\u001b[0;34m\u001b[0m\u001b[0m\n",
      "\u001b[0;32m~/opt/anaconda3/lib/python3.9/site-packages/sqlalchemy/engine/base.py\u001b[0m in \u001b[0;36m_execute_context\u001b[0;34m(self, dialect, constructor, statement, parameters, execution_options, *args, **kw)\u001b[0m\n\u001b[1;32m   1812\u001b[0m \u001b[0;34m\u001b[0m\u001b[0m\n\u001b[1;32m   1813\u001b[0m         \u001b[0;32mexcept\u001b[0m \u001b[0mBaseException\u001b[0m \u001b[0;32mas\u001b[0m \u001b[0me\u001b[0m\u001b[0;34m:\u001b[0m\u001b[0;34m\u001b[0m\u001b[0;34m\u001b[0m\u001b[0m\n\u001b[0;32m-> 1814\u001b[0;31m             self._handle_dbapi_exception(\n\u001b[0m\u001b[1;32m   1815\u001b[0m                 \u001b[0me\u001b[0m\u001b[0;34m,\u001b[0m \u001b[0mstatement\u001b[0m\u001b[0;34m,\u001b[0m \u001b[0mparameters\u001b[0m\u001b[0;34m,\u001b[0m \u001b[0mcursor\u001b[0m\u001b[0;34m,\u001b[0m \u001b[0mcontext\u001b[0m\u001b[0;34m\u001b[0m\u001b[0;34m\u001b[0m\u001b[0m\n\u001b[1;32m   1816\u001b[0m             )\n",
      "\u001b[0;32m~/opt/anaconda3/lib/python3.9/site-packages/sqlalchemy/engine/base.py\u001b[0m in \u001b[0;36m_handle_dbapi_exception\u001b[0;34m(self, e, statement, parameters, cursor, context)\u001b[0m\n\u001b[1;32m   1993\u001b[0m                 \u001b[0mutil\u001b[0m\u001b[0;34m.\u001b[0m\u001b[0mraise_\u001b[0m\u001b[0;34m(\u001b[0m\u001b[0mnewraise\u001b[0m\u001b[0;34m,\u001b[0m \u001b[0mwith_traceback\u001b[0m\u001b[0;34m=\u001b[0m\u001b[0mexc_info\u001b[0m\u001b[0;34m[\u001b[0m\u001b[0;36m2\u001b[0m\u001b[0;34m]\u001b[0m\u001b[0;34m,\u001b[0m \u001b[0mfrom_\u001b[0m\u001b[0;34m=\u001b[0m\u001b[0me\u001b[0m\u001b[0;34m)\u001b[0m\u001b[0;34m\u001b[0m\u001b[0;34m\u001b[0m\u001b[0m\n\u001b[1;32m   1994\u001b[0m             \u001b[0;32melif\u001b[0m \u001b[0mshould_wrap\u001b[0m\u001b[0;34m:\u001b[0m\u001b[0;34m\u001b[0m\u001b[0;34m\u001b[0m\u001b[0m\n\u001b[0;32m-> 1995\u001b[0;31m                 util.raise_(\n\u001b[0m\u001b[1;32m   1996\u001b[0m                     \u001b[0msqlalchemy_exception\u001b[0m\u001b[0;34m,\u001b[0m \u001b[0mwith_traceback\u001b[0m\u001b[0;34m=\u001b[0m\u001b[0mexc_info\u001b[0m\u001b[0;34m[\u001b[0m\u001b[0;36m2\u001b[0m\u001b[0;34m]\u001b[0m\u001b[0;34m,\u001b[0m \u001b[0mfrom_\u001b[0m\u001b[0;34m=\u001b[0m\u001b[0me\u001b[0m\u001b[0;34m\u001b[0m\u001b[0;34m\u001b[0m\u001b[0m\n\u001b[1;32m   1997\u001b[0m                 )\n",
      "\u001b[0;32m~/opt/anaconda3/lib/python3.9/site-packages/sqlalchemy/util/compat.py\u001b[0m in \u001b[0;36mraise_\u001b[0;34m(***failed resolving arguments***)\u001b[0m\n\u001b[1;32m    205\u001b[0m \u001b[0;34m\u001b[0m\u001b[0m\n\u001b[1;32m    206\u001b[0m         \u001b[0;32mtry\u001b[0m\u001b[0;34m:\u001b[0m\u001b[0;34m\u001b[0m\u001b[0;34m\u001b[0m\u001b[0m\n\u001b[0;32m--> 207\u001b[0;31m             \u001b[0;32mraise\u001b[0m \u001b[0mexception\u001b[0m\u001b[0;34m\u001b[0m\u001b[0;34m\u001b[0m\u001b[0m\n\u001b[0m\u001b[1;32m    208\u001b[0m         \u001b[0;32mfinally\u001b[0m\u001b[0;34m:\u001b[0m\u001b[0;34m\u001b[0m\u001b[0;34m\u001b[0m\u001b[0m\n\u001b[1;32m    209\u001b[0m             \u001b[0;31m# credit to\u001b[0m\u001b[0;34m\u001b[0m\u001b[0;34m\u001b[0m\u001b[0m\n",
      "\u001b[0;32m~/opt/anaconda3/lib/python3.9/site-packages/sqlalchemy/engine/base.py\u001b[0m in \u001b[0;36m_execute_context\u001b[0;34m(self, dialect, constructor, statement, parameters, execution_options, *args, **kw)\u001b[0m\n\u001b[1;32m   1769\u001b[0m                             \u001b[0;32mbreak\u001b[0m\u001b[0;34m\u001b[0m\u001b[0;34m\u001b[0m\u001b[0m\n\u001b[1;32m   1770\u001b[0m                 \u001b[0;32mif\u001b[0m \u001b[0;32mnot\u001b[0m \u001b[0mevt_handled\u001b[0m\u001b[0;34m:\u001b[0m\u001b[0;34m\u001b[0m\u001b[0;34m\u001b[0m\u001b[0m\n\u001b[0;32m-> 1771\u001b[0;31m                     self.dialect.do_execute(\n\u001b[0m\u001b[1;32m   1772\u001b[0m                         \u001b[0mcursor\u001b[0m\u001b[0;34m,\u001b[0m \u001b[0mstatement\u001b[0m\u001b[0;34m,\u001b[0m \u001b[0mparameters\u001b[0m\u001b[0;34m,\u001b[0m \u001b[0mcontext\u001b[0m\u001b[0;34m\u001b[0m\u001b[0;34m\u001b[0m\u001b[0m\n\u001b[1;32m   1773\u001b[0m                     )\n",
      "\u001b[0;32m~/opt/anaconda3/lib/python3.9/site-packages/sqlalchemy/engine/default.py\u001b[0m in \u001b[0;36mdo_execute\u001b[0;34m(self, cursor, statement, parameters, context)\u001b[0m\n\u001b[1;32m    715\u001b[0m \u001b[0;34m\u001b[0m\u001b[0m\n\u001b[1;32m    716\u001b[0m     \u001b[0;32mdef\u001b[0m \u001b[0mdo_execute\u001b[0m\u001b[0;34m(\u001b[0m\u001b[0mself\u001b[0m\u001b[0;34m,\u001b[0m \u001b[0mcursor\u001b[0m\u001b[0;34m,\u001b[0m \u001b[0mstatement\u001b[0m\u001b[0;34m,\u001b[0m \u001b[0mparameters\u001b[0m\u001b[0;34m,\u001b[0m \u001b[0mcontext\u001b[0m\u001b[0;34m=\u001b[0m\u001b[0;32mNone\u001b[0m\u001b[0;34m)\u001b[0m\u001b[0;34m:\u001b[0m\u001b[0;34m\u001b[0m\u001b[0;34m\u001b[0m\u001b[0m\n\u001b[0;32m--> 717\u001b[0;31m         \u001b[0mcursor\u001b[0m\u001b[0;34m.\u001b[0m\u001b[0mexecute\u001b[0m\u001b[0;34m(\u001b[0m\u001b[0mstatement\u001b[0m\u001b[0;34m,\u001b[0m \u001b[0mparameters\u001b[0m\u001b[0;34m)\u001b[0m\u001b[0;34m\u001b[0m\u001b[0;34m\u001b[0m\u001b[0m\n\u001b[0m\u001b[1;32m    718\u001b[0m \u001b[0;34m\u001b[0m\u001b[0m\n\u001b[1;32m    719\u001b[0m     \u001b[0;32mdef\u001b[0m \u001b[0mdo_execute_no_params\u001b[0m\u001b[0;34m(\u001b[0m\u001b[0mself\u001b[0m\u001b[0;34m,\u001b[0m \u001b[0mcursor\u001b[0m\u001b[0;34m,\u001b[0m \u001b[0mstatement\u001b[0m\u001b[0;34m,\u001b[0m \u001b[0mcontext\u001b[0m\u001b[0;34m=\u001b[0m\u001b[0;32mNone\u001b[0m\u001b[0;34m)\u001b[0m\u001b[0;34m:\u001b[0m\u001b[0;34m\u001b[0m\u001b[0;34m\u001b[0m\u001b[0m\n",
      "\u001b[0;31mOperationalError\u001b[0m: (sqlite3.OperationalError) no such function: MONTH\n[SQL: SELECT facid, COUNT(*) as member_count, MONTH(starttime) AS Month\n                              FROM Bookings\n                          ]\n(Background on this error at: https://sqlalche.me/e/14/e3q8)"
     ]
    }
   ],
   "source": [
    "df = pd.read_sql_query('''SELECT facid, COUNT(*) as member_count, MONTH(starttime) AS Month\n",
    "                              FROM Bookings\n",
    "                          ''', engine)\n",
    "print(df)"
   ]
  },
  {
   "cell_type": "code",
   "execution_count": null,
   "id": "3fba7cd5",
   "metadata": {},
   "outputs": [],
   "source": []
  }
 ],
 "metadata": {
  "kernelspec": {
   "display_name": "Python 3 (ipykernel)",
   "language": "python",
   "name": "python3"
  },
  "language_info": {
   "codemirror_mode": {
    "name": "ipython",
    "version": 3
   },
   "file_extension": ".py",
   "mimetype": "text/x-python",
   "name": "python",
   "nbconvert_exporter": "python",
   "pygments_lexer": "ipython3",
   "version": "3.9.7"
  }
 },
 "nbformat": 4,
 "nbformat_minor": 5
}
