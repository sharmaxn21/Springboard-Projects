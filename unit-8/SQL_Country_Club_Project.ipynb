{
 "cells": [
  {
   "cell_type": "markdown",
   "id": "185a4285",
   "metadata": {},
   "source": [
    "**Import pacakages**"
   ]
  },
  {
   "cell_type": "code",
   "execution_count": 1,
   "id": "1bff572e",
   "metadata": {},
   "outputs": [],
   "source": [
    "from sqlalchemy import create_engine\n",
    "import pandas as pd"
   ]
  },
  {
   "cell_type": "markdown",
   "id": "2bb5a4a8",
   "metadata": {},
   "source": [
    "**Q1**: Some of the facilities charge a fee to members, but some do not.\n",
    "Write a SQL query to produce a list of the names of the facilities that do. "
   ]
  },
  {
   "cell_type": "code",
   "execution_count": 2,
   "id": "18a61367",
   "metadata": {},
   "outputs": [
    {
     "name": "stdout",
     "output_type": "stream",
     "text": [
      "             name\n",
      "0  Tennis Court 1\n",
      "1  Tennis Court 2\n",
      "2  Massage Room 1\n",
      "3  Massage Room 2\n",
      "4    Squash Court\n"
     ]
    }
   ],
   "source": [
    "engine = create_engine('sqlite:///sqlite_db_pythonsqlite.db')\n",
    "df = pd.read_sql_query('''SELECT name \n",
    "                          FROM Facilities \n",
    "                          WHERE membercost !=0''', engine)\n",
    "print(df)\n"
   ]
  },
  {
   "cell_type": "markdown",
   "id": "81ccd429",
   "metadata": {},
   "source": [
    "**Q2**: How many facilities do not charge a fee to members?\n"
   ]
  },
  {
   "cell_type": "code",
   "execution_count": 3,
   "id": "07ae30c7",
   "metadata": {},
   "outputs": [
    {
     "name": "stdout",
     "output_type": "stream",
     "text": [
      "   count\n",
      "0      4\n"
     ]
    }
   ],
   "source": [
    "engine = create_engine('sqlite:///sqlite_db_pythonsqlite.db')\n",
    "df = pd.read_sql_query('''SELECT COUNT(*) as count \n",
    "                          FROM Facilities \n",
    "                          WHERE membercost ==0''', engine)\n",
    "print(df)\n"
   ]
  },
  {
   "cell_type": "markdown",
   "id": "3fac2f0c",
   "metadata": {},
   "source": [
    "**Q3**: Write an SQL query to show a list of facilities that charge a fee to members, where the fee is less than 20% of the facility's monthly maintenance cost. Return the facid, facility name, member cost, and monthly maintenance of the facilities in question."
   ]
  },
  {
   "cell_type": "code",
   "execution_count": 4,
   "id": "7c7ec2c0",
   "metadata": {},
   "outputs": [
    {
     "name": "stdout",
     "output_type": "stream",
     "text": [
      "   facid            name  membercost  monthlymaintenance\n",
      "0      0  Tennis Court 1         5.0                 200\n",
      "1      1  Tennis Court 2         5.0                 200\n",
      "2      4  Massage Room 1         9.9                3000\n",
      "3      5  Massage Room 2         9.9                3000\n",
      "4      6    Squash Court         3.5                  80\n"
     ]
    }
   ],
   "source": [
    "df = pd.read_sql_query('''SELECT facid, name, membercost, monthlymaintenance \n",
    "                          FROM Facilities \n",
    "                          WHERE membercost > 0 AND membercost < 0.2 * (monthlymaintenance)''', engine)\n",
    "print(df)"
   ]
  },
  {
   "cell_type": "markdown",
   "id": "e172bd0c",
   "metadata": {},
   "source": [
    "**Q4**: Write an SQL query to retrieve the details of facilities with ID 1 and 5.\n",
    "Try writing the query without using the OR operator."
   ]
  },
  {
   "cell_type": "code",
   "execution_count": 5,
   "id": "ca8ba0de",
   "metadata": {},
   "outputs": [
    {
     "name": "stdout",
     "output_type": "stream",
     "text": [
      "   facid            name  membercost  guestcost  initialoutlay  \\\n",
      "0      1  Tennis Court 2         5.0         25           8000   \n",
      "1      5  Massage Room 2         9.9         80           4000   \n",
      "\n",
      "   monthlymaintenance  \n",
      "0                 200  \n",
      "1                3000  \n"
     ]
    }
   ],
   "source": [
    "df = pd.read_sql_query('''SELECT * \n",
    "                          FROM Facilities\n",
    "                          WHERE facid IN (1, 5) ''', engine)\n",
    "print(df)"
   ]
  },
  {
   "cell_type": "markdown",
   "id": "f0b60f92",
   "metadata": {},
   "source": [
    "**Q5**: Produce a list of facilities, with each labelled as\n",
    "'cheap' or 'expensive', depending on if their monthly maintenance cost is\n",
    "more than $100. Return the name and monthly maintenance of the facilities\n",
    "in question. "
   ]
  },
  {
   "cell_type": "code",
   "execution_count": 6,
   "id": "4a000269",
   "metadata": {},
   "outputs": [
    {
     "name": "stdout",
     "output_type": "stream",
     "text": [
      "              name  monthlymaintenance       TYPE\n",
      "0   Tennis Court 1                 200  expensive\n",
      "1   Tennis Court 2                 200  expensive\n",
      "2  Badminton Court                  50      cheap\n",
      "3     Table Tennis                  10      cheap\n",
      "4   Massage Room 1                3000  expensive\n",
      "5   Massage Room 2                3000  expensive\n",
      "6     Squash Court                  80      cheap\n",
      "7    Snooker Table                  15      cheap\n",
      "8       Pool Table                  15      cheap\n"
     ]
    }
   ],
   "source": [
    "df = pd.read_sql_query('''SELECT name, monthlymaintenance,\n",
    "                            CASE WHEN monthlymaintenance <100 THEN 'cheap'\n",
    "                            ELSE 'expensive'\n",
    "                            END AS TYPE\n",
    "                          FROM Facilities''', engine)\n",
    "print(df)"
   ]
  },
  {
   "cell_type": "markdown",
   "id": "266fdc95",
   "metadata": {},
   "source": [
    "**Q6**: You'd like to get the first and last name of the last member(s)\n",
    "who signed up. Try not to use the LIMIT clause for your solution. "
   ]
  },
  {
   "cell_type": "code",
   "execution_count": 7,
   "id": "7172334e",
   "metadata": {},
   "outputs": [
    {
     "name": "stdout",
     "output_type": "stream",
     "text": [
      "  firstname surname             joindate\n",
      "0    Darren   Smith  2012-09-26 18:08:45\n"
     ]
    }
   ],
   "source": [
    "df = pd.read_sql_query('''SELECT firstname, surname, joindate\n",
    "                          FROM Members\n",
    "                          WHERE joindate = (\n",
    "                          SELECT MAX(joindate)\n",
    "                          FROM Members)''', engine)\n",
    "print(df)"
   ]
  },
  {
   "cell_type": "markdown",
   "id": "a3f43495",
   "metadata": {},
   "source": [
    "**Q7**: Produce a list of all members who have used a tennis court.\n",
    "Include in your output the name of the court, and the name of the member\n",
    "formatted as a single column. Ensure no duplicate data, and order by\n",
    "the member name."
   ]
  },
  {
   "cell_type": "code",
   "execution_count": 8,
   "id": "11b770af",
   "metadata": {},
   "outputs": [
    {
     "name": "stdout",
     "output_type": "stream",
     "text": [
      "               member      court_name\n",
      "0         Tracy Smith  Tennis Court 1\n",
      "1          Tim Rownam  Tennis Court 1\n",
      "2     Janice Joplette  Tennis Court 1\n",
      "3      Gerald Butters  Tennis Court 1\n",
      "4        Burton Tracy  Tennis Court 1\n",
      "5          Nancy Dare  Tennis Court 1\n",
      "6          Tim Boothe  Tennis Court 1\n",
      "7        Charles Owen  Tennis Court 1\n",
      "8          Anne Baker  Tennis Court 1\n",
      "9          Jack Smith  Tennis Court 1\n",
      "10        David Jones  Tennis Court 1\n",
      "11      Timothy Baker  Tennis Court 1\n",
      "12       David Pinker  Tennis Court 1\n",
      "13    Ponder Stibbons  Tennis Court 1\n",
      "14        Joan Coplin  Tennis Court 1\n",
      "15      Douglas Jones  Tennis Court 1\n",
      "16   Ramnaresh Sarwin  Tennis Court 1\n",
      "17     Jemima Farrell  Tennis Court 1\n",
      "18      David Farrell  Tennis Court 1\n",
      "19     Florence Bader  Tennis Court 1\n",
      "20          John Hunt  Tennis Court 1\n",
      "21    Matthew Genting  Tennis Court 1\n",
      "22      Erica Crumpet  Tennis Court 1\n",
      "23         Tim Rownam  Tennis Court 2\n",
      "24       Darren Smith  Tennis Court 2\n",
      "25    Janice Joplette  Tennis Court 2\n",
      "26        Tracy Smith  Tennis Court 2\n",
      "27     Gerald Butters  Tennis Court 2\n",
      "28         Tim Boothe  Tennis Court 2\n",
      "29       Burton Tracy  Tennis Court 2\n",
      "30         Nancy Dare  Tennis Court 2\n",
      "31    Ponder Stibbons  Tennis Court 2\n",
      "32       Charles Owen  Tennis Court 2\n",
      "33        David Jones  Tennis Court 2\n",
      "34         Anne Baker  Tennis Court 2\n",
      "35      Timothy Baker  Tennis Court 2\n",
      "36     Florence Bader  Tennis Court 2\n",
      "37     Jemima Farrell  Tennis Court 2\n",
      "38   Ramnaresh Sarwin  Tennis Court 2\n",
      "39         Jack Smith  Tennis Court 2\n",
      "40  Millicent Purview  Tennis Court 2\n",
      "41   Henrietta Rumney  Tennis Court 2\n",
      "42          John Hunt  Tennis Court 2\n",
      "43      David Farrell  Tennis Court 2\n"
     ]
    }
   ],
   "source": [
    "df = pd.read_sql_query('''SELECT DISTINCT m.firstname || \" \" || m.surname AS member, f.name AS court_name\n",
    "                          FROM Bookings AS b\n",
    "                          LEFT JOIN Members AS m ON m.memid = b.memid\n",
    "                          LEFT JOIN Facilities AS f ON b.facid = f.facid\n",
    "                          WHERE b.facid IN (0, 1) AND m.surname != 'GUEST'\n",
    "                          ORDER BY court_name''', engine)\n",
    "print(df)"
   ]
  },
  {
   "cell_type": "markdown",
   "id": "51c86ec9",
   "metadata": {},
   "source": [
    "**Q8**: Produce a list of bookings on the day of 2012-09-14 which\n",
    "will cost the member (or guest) more than $30. Remember that guests have\n",
    "different costs to members (the listed costs are per half-hour 'slot'), and\n",
    "the guest user's ID is always 0. Include in your output the name of the\n",
    "facility, the name of the member formatted as a single column, and the cost.\n",
    "Order by descending cost, and do not use any subqueries."
   ]
  },
  {
   "cell_type": "code",
   "execution_count": 9,
   "id": "1903c34f",
   "metadata": {},
   "outputs": [
    {
     "name": "stdout",
     "output_type": "stream",
     "text": [
      "          facility            name   cost\n",
      "0   Massage Room 2     GUEST GUEST  320.0\n",
      "1   Massage Room 1     GUEST GUEST  160.0\n",
      "2   Massage Room 1     GUEST GUEST  160.0\n",
      "3   Massage Room 1     GUEST GUEST  160.0\n",
      "4   Tennis Court 2     GUEST GUEST  150.0\n",
      "5   Tennis Court 1     GUEST GUEST   75.0\n",
      "6   Tennis Court 1     GUEST GUEST   75.0\n",
      "7   Tennis Court 2     GUEST GUEST   75.0\n",
      "8     Squash Court     GUEST GUEST   70.0\n",
      "9   Massage Room 1  Jemima Farrell   39.6\n",
      "10    Squash Court     GUEST GUEST   35.0\n",
      "11    Squash Court     GUEST GUEST   35.0\n"
     ]
    }
   ],
   "source": [
    "df = pd.read_sql_query('''SELECT f.name AS facility, m.firstname || \" \" || m.surname AS name,\n",
    "                             CASE WHEN b.memid !=0 THEN b.slots*(f.membercost)\n",
    "                             ELSE b.slots*(f.guestcost)\n",
    "                             END AS cost\n",
    "                          FROM Members AS m\n",
    "                          LEFT JOIN Bookings AS b ON m.memid = b.memid\n",
    "                          LEFT JOIN Facilities AS f ON f.facid = b.facid\n",
    "                          WHERE b.starttime LIKE '2012-09-14 %'\n",
    "                                AND CASE WHEN b.memid !=0 THEN b.slots *(f.membercost)\n",
    "                                ELSE b.slots *(f.guestcost)\n",
    "                                END >30\n",
    "                          ORDER BY cost DESC''', engine)\n",
    "print(df)"
   ]
  },
  {
   "cell_type": "markdown",
   "id": "997aed55",
   "metadata": {},
   "source": [
    "**Q9**: This time, produce the same result as in Q8, but using a subquery."
   ]
  },
  {
   "cell_type": "code",
   "execution_count": 10,
   "id": "8f1e2dc1",
   "metadata": {},
   "outputs": [
    {
     "name": "stdout",
     "output_type": "stream",
     "text": [
      "          facility            name   cost\n",
      "0   Massage Room 2     GUEST GUEST  320.0\n",
      "1   Massage Room 1     GUEST GUEST  160.0\n",
      "2   Massage Room 1     GUEST GUEST  160.0\n",
      "3   Massage Room 1     GUEST GUEST  160.0\n",
      "4   Tennis Court 2     GUEST GUEST  150.0\n",
      "5   Tennis Court 1     GUEST GUEST   75.0\n",
      "6   Tennis Court 1     GUEST GUEST   75.0\n",
      "7   Tennis Court 2     GUEST GUEST   75.0\n",
      "8     Squash Court     GUEST GUEST   70.0\n",
      "9   Massage Room 1  Jemima Farrell   39.6\n",
      "10    Squash Court     GUEST GUEST   35.0\n",
      "11    Squash Court     GUEST GUEST   35.0\n"
     ]
    }
   ],
   "source": [
    "df = pd.read_sql_query('''SELECT *\n",
    "                          FROM (\n",
    "                              SELECT f.name AS facility, m.firstname || \" \" || m.surname AS name,\n",
    "                                 CASE WHEN b.memid !=0 THEN b.slots*(f.membercost)\n",
    "                                  ELSE b.slots*(f.guestcost)\n",
    "                                  END AS cost\n",
    "                              FROM Members AS m\n",
    "                              LEFT JOIN Bookings AS b ON m.memid = b.memid\n",
    "                              LEFT JOIN Facilities AS f ON f.facid = b.facid\n",
    "                              WHERE b.starttime LIKE '2012-09-14 %'\n",
    "                              ) AS cost\n",
    "                         WHERE cost >30\n",
    "                         ORDER BY cost DESC''', engine)\n",
    "print(df)"
   ]
  },
  {
   "cell_type": "markdown",
   "id": "bafc549b",
   "metadata": {},
   "source": [
    "**Q10**: Produce a list of facilities with a total revenue less than 1000.\n",
    "The output of facility name and total revenue, sorted by revenue. Remember\n",
    "that there's a different cost for guests and members!"
   ]
  },
  {
   "cell_type": "code",
   "execution_count": 11,
   "id": "2f20e58c",
   "metadata": {},
   "outputs": [
    {
     "name": "stdout",
     "output_type": "stream",
     "text": [
      "        facility  revenue\n",
      "0     Pool Table      270\n",
      "1  Snooker Table      240\n",
      "2   Table Tennis      180\n"
     ]
    }
   ],
   "source": [
    "df = pd.read_sql_query('''SELECT *\n",
    "                          FROM\n",
    "                            (SELECT f.name AS facility, SUM(CASE WHEN m.firstname = \"GUEST\" THEN slots*f.guestcost\n",
    "                                                            ELSE slots*f.membercost\n",
    "                                                            END) AS revenue\n",
    "                            FROM Members AS m\n",
    "                            INNER JOIN Bookings AS b\n",
    "                            ON m.memid = b.memid\n",
    "                            INNER JOIN Facilities AS f\n",
    "                            ON b.facid = f.facid\n",
    "                            GROUP BY f.name)\n",
    "                        WHERE revenue < 1000\n",
    "                        ORDER BY revenue DESC''', engine)\n",
    "print(df)"
   ]
  },
  {
   "cell_type": "markdown",
   "id": "2cd5157e",
   "metadata": {},
   "source": [
    "**Q11**: Produce a report of members and who recommended them in alphabetic surname,firstname order"
   ]
  },
  {
   "cell_type": "code",
   "execution_count": 12,
   "id": "8d83014d",
   "metadata": {},
   "outputs": [
    {
     "name": "stdout",
     "output_type": "stream",
     "text": [
      "                 member_name    recommender_name\n",
      "0            Bader, Florence    Stibbons, Ponder\n",
      "1                Baker, Anne    Stibbons, Ponder\n",
      "2             Baker, Timothy     Farrell, Jemima\n",
      "3                Boothe, Tim         Rownam, Tim\n",
      "4            Butters, Gerald       Smith, Darren\n",
      "5               Coplin, Joan      Baker, Timothy\n",
      "6             Crumpet, Erica        Smith, Tracy\n",
      "7                Dare, Nancy    Joplette, Janice\n",
      "8           Genting, Matthew     Butters, Gerald\n",
      "9                 Hunt, John  Purview, Millicent\n",
      "10              Jones, David    Joplette, Janice\n",
      "11            Jones, Douglas        Jones, David\n",
      "12          Joplette, Janice       Smith, Darren\n",
      "13           Mackenzie, Anna       Smith, Darren\n",
      "14             Owen, Charles       Smith, Darren\n",
      "15             Pinker, David     Farrell, Jemima\n",
      "16        Purview, Millicent        Smith, Tracy\n",
      "17         Rumney, Henrietta    Genting, Matthew\n",
      "18         Sarwin, Ramnaresh     Bader, Florence\n",
      "19               Smith, Jack       Smith, Darren\n",
      "20          Stibbons, Ponder       Tracy, Burton\n",
      "21  Worthington-Smyth, Henry        Smith, Tracy\n"
     ]
    }
   ],
   "source": [
    "df = pd.read_sql_query('''\n",
    "                        SELECT r.surname || ', ' || r.firstname as member_name, m.surname || ', ' || m.firstname as recommender_name\n",
    "                        FROM Members AS m\n",
    "                        JOIN Members AS r ON m.memid==r.recommendedby\n",
    "                        ORDER BY member_name\n",
    "                       ''', engine)\n",
    "print(df)"
   ]
  },
  {
   "cell_type": "markdown",
   "id": "60ff5760",
   "metadata": {},
   "source": [
    "**Q12**: Find the facilities with their usage by member, but not guests "
   ]
  },
  {
   "cell_type": "code",
   "execution_count": 13,
   "id": "96ac7b1b",
   "metadata": {},
   "outputs": [
    {
     "name": "stdout",
     "output_type": "stream",
     "text": [
      "              name  member_count\n",
      "0       Pool Table           783\n",
      "1   Massage Room 1           421\n",
      "2    Snooker Table           421\n",
      "3     Table Tennis           385\n",
      "4  Badminton Court           344\n",
      "5   Tennis Court 1           308\n",
      "6   Tennis Court 2           276\n",
      "7     Squash Court           195\n",
      "8   Massage Room 2            27\n"
     ]
    }
   ],
   "source": [
    "# usage = number of members who used \n",
    "df = pd.read_sql_query('''SELECT f.name, b.member_count\n",
    "                          FROM\n",
    "                              (SELECT facid, COUNT(*) as member_count\n",
    "                              FROM Bookings\n",
    "                              WHERE memid != 0\n",
    "                              GROUP BY facid) AS b\n",
    "                          JOIN Facilities AS f on f.facid == b.facid\n",
    "                          ORDER BY member_count DESC\n",
    "                          ''', engine)\n",
    "print(df)"
   ]
  },
  {
   "cell_type": "markdown",
   "id": "5d2ecd6b",
   "metadata": {},
   "source": [
    "**Q13**: Find the facilities usage by month, but not guests"
   ]
  },
  {
   "cell_type": "code",
   "execution_count": 14,
   "id": "e9fd8920",
   "metadata": {},
   "outputs": [
    {
     "name": "stdout",
     "output_type": "stream",
     "text": [
      "               name  member_count Month\n",
      "0        Pool Table           103    07\n",
      "1    Massage Room 1            77    07\n",
      "2     Snooker Table            68    07\n",
      "3    Tennis Court 1            65    07\n",
      "4   Badminton Court            51    07\n",
      "5      Table Tennis            48    07\n",
      "6    Tennis Court 2            41    07\n",
      "7      Squash Court            23    07\n",
      "8    Massage Room 2             4    07\n",
      "9        Pool Table           272    08\n",
      "10    Snooker Table           154    08\n",
      "11   Massage Room 1           153    08\n",
      "12     Table Tennis           143    08\n",
      "13  Badminton Court           132    08\n",
      "14   Tennis Court 1           111    08\n",
      "15   Tennis Court 2           109    08\n",
      "16     Squash Court            85    08\n",
      "17   Massage Room 2             9    08\n",
      "18       Pool Table           408    09\n",
      "19    Snooker Table           199    09\n",
      "20     Table Tennis           194    09\n",
      "21   Massage Room 1           191    09\n",
      "22  Badminton Court           161    09\n",
      "23   Tennis Court 1           132    09\n",
      "24   Tennis Court 2           126    09\n",
      "25     Squash Court            87    09\n",
      "26   Massage Room 2            14    09\n"
     ]
    }
   ],
   "source": [
    "df = pd.read_sql_query('''SELECT f.name, b.member_count, b.Month\n",
    "                          FROM\n",
    "                              (SELECT facid, COUNT(*) as member_count, strftime('%m', starttime) AS Month\n",
    "                              FROM Bookings\n",
    "                              WHERE memid != 0\n",
    "                              GROUP BY facid, Month) AS b\n",
    "                          JOIN Facilities AS f on f.facid == b.facid\n",
    "                          ORDER BY Month, member_count DESC\n",
    "                          ''', engine)\n",
    "print(df)"
   ]
  },
  {
   "cell_type": "code",
   "execution_count": null,
   "id": "3fba7cd5",
   "metadata": {},
   "outputs": [],
   "source": []
  }
 ],
 "metadata": {
  "kernelspec": {
   "display_name": "Python 3 (ipykernel)",
   "language": "python",
   "name": "python3"
  },
  "language_info": {
   "codemirror_mode": {
    "name": "ipython",
    "version": 3
   },
   "file_extension": ".py",
   "mimetype": "text/x-python",
   "name": "python",
   "nbconvert_exporter": "python",
   "pygments_lexer": "ipython3",
   "version": "3.9.7"
  }
 },
 "nbformat": 4,
 "nbformat_minor": 5
}
